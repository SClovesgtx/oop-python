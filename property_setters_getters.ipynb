{
 "cells": [
  {
   "cell_type": "markdown",
   "metadata": {},
   "source": [
    "# Cenário\n",
    "\n",
    "Temos uma classe que representa produtos de uma loja e ela possui um método para aplicar desconto:"
   ]
  },
  {
   "cell_type": "code",
   "execution_count": 1,
   "metadata": {},
   "outputs": [],
   "source": [
    "class Produto:\n",
    "    def __init__(self, nome, preco) -> None:\n",
    "        self.nome = nome\n",
    "        self.preco = preco  \n",
    "\n",
    "    def desconto(self, percentual):\n",
    "        self.preco = self.preco - (self.preco * (percentual/100))"
   ]
  },
  {
   "cell_type": "code",
   "execution_count": 2,
   "metadata": {},
   "outputs": [
    {
     "data": {
      "text/plain": [
       "45.0"
      ]
     },
     "execution_count": 2,
     "metadata": {},
     "output_type": "execute_result"
    }
   ],
   "source": [
    "p1 = Produto(\"camiseta\", 50)\n",
    "p1.desconto(10)\n",
    "p1.preco"
   ]
  },
  {
   "cell_type": "markdown",
   "metadata": {},
   "source": [
    "Mas alguém cadastrou no banco de dados que o preço é \"R$15\".\n",
    "\n",
    "Sabendo que é possível chegar um valor assim, podemos usar os getters e setters para\n",
    "corrigir estes casos:"
   ]
  },
  {
   "cell_type": "code",
   "execution_count": 3,
   "metadata": {},
   "outputs": [],
   "source": [
    "class Produto:\n",
    "    def __init__(self, nome, preco) -> None:\n",
    "        self.nome = nome\n",
    "        self.preco = preco  \n",
    "\n",
    "    def desconto(self, percentual):\n",
    "        self.preco = self.preco - (self.preco * (percentual/100))\n",
    "\n",
    "    # getter\n",
    "    @property\n",
    "    def preco(self):\n",
    "        return self._preco\n",
    "\n",
    "    # setter\n",
    "    @preco.setter\n",
    "    def preco(self, value):\n",
    "        if isinstance(value, str):\n",
    "            self._preco = float(value.replace(\"R$\", \"\"))\n",
    "        elif isinstance(value, float) or isinstance(value, float):\n",
    "            self._preco = value\n",
    "        else:\n",
    "            raise Exception(f\"Value {value} is not valid. Please pass a number.\")"
   ]
  },
  {
   "cell_type": "code",
   "execution_count": 4,
   "metadata": {},
   "outputs": [
    {
     "data": {
      "text/plain": [
       "2400.0"
      ]
     },
     "execution_count": 4,
     "metadata": {},
     "output_type": "execute_result"
    }
   ],
   "source": [
    "p2 = Produto(\"Computador\", \"R$2400\")\n",
    "p2.preco"
   ]
  },
  {
   "cell_type": "code",
   "execution_count": null,
   "metadata": {},
   "outputs": [],
   "source": []
  }
 ],
 "metadata": {
  "kernelspec": {
   "display_name": "Python 3.9.2 64-bit",
   "language": "python",
   "name": "python3"
  },
  "language_info": {
   "codemirror_mode": {
    "name": "ipython",
    "version": 3
   },
   "file_extension": ".py",
   "mimetype": "text/x-python",
   "name": "python",
   "nbconvert_exporter": "python",
   "pygments_lexer": "ipython3",
   "version": "3.10.6"
  },
  "orig_nbformat": 4,
  "vscode": {
   "interpreter": {
    "hash": "31f2aee4e71d21fbe5cf8b01ff0e069b9275f58929596ceb00d14d90e3e16cd6"
   }
  }
 },
 "nbformat": 4,
 "nbformat_minor": 2
}
