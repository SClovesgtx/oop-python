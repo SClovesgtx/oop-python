{
 "cells": [
  {
   "cell_type": "markdown",
   "metadata": {},
   "source": [
    "# Decorators"
   ]
  },
  {
   "cell_type": "markdown",
   "metadata": {},
   "source": [
    "Antes de entender os staticmethods e classmethod é preciso entender o que são decorator."
   ]
  },
  {
   "cell_type": "markdown",
   "metadata": {},
   "source": [
    "Um decorador insere um comportamento em alguma função."
   ]
  },
  {
   "cell_type": "markdown",
   "metadata": {},
   "source": [
    "Para entender isso, você precisa saber que podemos ter funções que criam outras funções.\n",
    "\n",
    "Como a função a seguir chamada *succ* que recebe uma função como parâmetro e retorna uma outra função chamada *wrapper* \n",
    "que usa a função passada do parâmetro:"
   ]
  },
  {
   "cell_type": "code",
   "execution_count": 6,
   "metadata": {},
   "outputs": [],
   "source": [
    "def succ(function):\n",
    "    def wrapper(*args):\n",
    "        result = function(*args)\n",
    "        return f\"O resultado é: {result}\"\n",
    "    return wrapper\n",
    "\n",
    "def add(x, y):\n",
    "    return x + y"
   ]
  },
  {
   "cell_type": "code",
   "execution_count": 7,
   "metadata": {},
   "outputs": [],
   "source": [
    "wrapped_func = succ(function=add)"
   ]
  },
  {
   "cell_type": "code",
   "execution_count": 8,
   "metadata": {},
   "outputs": [
    {
     "data": {
      "text/plain": [
       "'O resultado é: 5'"
      ]
     },
     "execution_count": 8,
     "metadata": {},
     "output_type": "execute_result"
    }
   ],
   "source": [
    "wrapped_func(2, 3)"
   ]
  },
  {
   "cell_type": "markdown",
   "metadata": {},
   "source": [
    "Poderíamos obter o mesmo efeito usando a função *succ* como decorador da função *add* assim:"
   ]
  },
  {
   "cell_type": "code",
   "execution_count": 10,
   "metadata": {},
   "outputs": [],
   "source": [
    "def succ(function):\n",
    "    def wrapper(*args):\n",
    "        result = function(*args)\n",
    "        return f\"V2 - O resultado é: {result}\"\n",
    "    return wrapper\n",
    "\n",
    "@succ\n",
    "def add(x, y):\n",
    "    return x + y"
   ]
  },
  {
   "cell_type": "code",
   "execution_count": 11,
   "metadata": {},
   "outputs": [
    {
     "data": {
      "text/plain": [
       "'V2 - O resultado é: 5'"
      ]
     },
     "execution_count": 11,
     "metadata": {},
     "output_type": "execute_result"
    }
   ],
   "source": [
    "add(2, 3)"
   ]
  },
  {
   "cell_type": "markdown",
   "metadata": {},
   "source": [
    "# staticmethod"
   ]
  },
  {
   "cell_type": "markdown",
   "metadata": {},
   "source": [
    "Um método estático é apenas uma função que você deseja que fique\n",
    "acoplada a uma classe.\n",
    "\n",
    "Tal método não tem acesso aos estados da classe.\n",
    "\n",
    "Para dizer que um método é estático, adicione o decorador\n",
    "staticmethod ao método em questão."
   ]
  },
  {
   "cell_type": "markdown",
   "metadata": {},
   "source": [
    "Vamos supor que você deseja, por qualquer que seja o motivo, que uma determinada classe\n",
    "sempre saiba lhe dizer que dia e hora é agora."
   ]
  },
  {
   "cell_type": "code",
   "execution_count": 25,
   "metadata": {},
   "outputs": [],
   "source": [
    "from datetime import datetime\n",
    "\n",
    "class User:\n",
    "    created_at = datetime.now()\n",
    "    updated_at: None\n",
    "    def __init__(self, name: str, age: int) -> None:\n",
    "        self.name = name\n",
    "        self.age = age\n",
    "    \n",
    "    @staticmethod\n",
    "    def time_now():\n",
    "        return datetime.now()"
   ]
  },
  {
   "cell_type": "code",
   "execution_count": 3,
   "metadata": {},
   "outputs": [],
   "source": [
    "user  = User(\"Cloves\", 32)"
   ]
  },
  {
   "cell_type": "code",
   "execution_count": 4,
   "metadata": {},
   "outputs": [],
   "source": [
    "user.updated_at = User.time_now()"
   ]
  },
  {
   "cell_type": "code",
   "execution_count": 5,
   "metadata": {},
   "outputs": [
    {
     "name": "stdout",
     "output_type": "stream",
     "text": [
      "2022-11-26 14:57:10.276508\n"
     ]
    }
   ],
   "source": [
    "print(user.updated_at)"
   ]
  },
  {
   "cell_type": "code",
   "execution_count": 21,
   "metadata": {},
   "outputs": [
    {
     "name": "stdout",
     "output_type": "stream",
     "text": [
      "2022-11-26 14:58:02.915810\n"
     ]
    }
   ],
   "source": [
    "print(User.time_now())"
   ]
  },
  {
   "cell_type": "markdown",
   "metadata": {},
   "source": [
    "# classmethod"
   ]
  },
  {
   "cell_type": "markdown",
   "metadata": {},
   "source": [
    "Vamos supor agora que você deseja que a classe User possa ser instanciada\n",
    "também através do ano de nascimento.\n",
    "\n",
    "Com o ano de nascimento pode-se deduzir a idade da pessoa.\n",
    "\n",
    "Uma abordagem é criar um método de classe."
   ]
  },
  {
   "cell_type": "code",
   "execution_count": 26,
   "metadata": {},
   "outputs": [],
   "source": [
    "from datetime import datetime\n",
    "\n",
    "class User:\n",
    "    created_at = datetime.now()\n",
    "    updated_at: None\n",
    "    corrent_year = datetime.now().year\n",
    "    def __init__(self, name: str, age: int) -> None:\n",
    "        self.name = name\n",
    "        self.age = age\n",
    "    \n",
    "    @staticmethod\n",
    "    def time_now():\n",
    "        return datetime.now()\n",
    "\n",
    "    @classmethod\n",
    "    def by_birth_year(cls, name: str, birth_year: int):\n",
    "        age = cls.corrent_year - birth_year      \n",
    "        return cls(name, age)"
   ]
  },
  {
   "cell_type": "code",
   "execution_count": 28,
   "metadata": {},
   "outputs": [
    {
     "data": {
      "text/plain": [
       "33"
      ]
     },
     "execution_count": 28,
     "metadata": {},
     "output_type": "execute_result"
    }
   ],
   "source": [
    "user = User.by_birth_year(\"cloves\", 1989)\n",
    "user.age"
   ]
  },
  {
   "cell_type": "markdown",
   "metadata": {},
   "source": [
    "Ou seja, o classmethod é um factory method."
   ]
  }
 ],
 "metadata": {
  "kernelspec": {
   "display_name": "Python 3.10.6 64-bit",
   "language": "python",
   "name": "python3"
  },
  "language_info": {
   "codemirror_mode": {
    "name": "ipython",
    "version": 3
   },
   "file_extension": ".py",
   "mimetype": "text/x-python",
   "name": "python",
   "nbconvert_exporter": "python",
   "pygments_lexer": "ipython3",
   "version": "3.10.6"
  },
  "orig_nbformat": 4,
  "vscode": {
   "interpreter": {
    "hash": "31f2aee4e71d21fbe5cf8b01ff0e069b9275f58929596ceb00d14d90e3e16cd6"
   }
  }
 },
 "nbformat": 4,
 "nbformat_minor": 2
}
